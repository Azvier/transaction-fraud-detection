{
 "cells": [
  {
   "cell_type": "code",
   "execution_count": 3,
   "id": "3189c76c",
   "metadata": {},
   "outputs": [],
   "source": [
    "import pandas as pd\n",
    "import lightgbm as lgb\n",
    "from sklearn.metrics import roc_auc_score, average_precision_score\n",
    "import matplotlib.pyplot as plt"
   ]
  },
  {
   "cell_type": "code",
   "execution_count": 4,
   "id": "ca38a4ea",
   "metadata": {},
   "outputs": [],
   "source": [
    "X_train = pd.read_csv('../output/split-dataset/X_train.csv')\n",
    "y_train = pd.read_csv('../output/split-dataset/y_train.csv')\n",
    "X_validation = pd.read_csv('../output/split-dataset/X_validation.csv')\n",
    "y_validation = pd.read_csv('../output/split-dataset/y_validation.csv')\n",
    "X_test = pd.read_csv('../output/split-dataset/X_test.csv')\n",
    "y_test = pd.read_csv('../output/split-dataset/y_test.csv')"
   ]
  },
  {
   "cell_type": "code",
   "execution_count": null,
   "id": "f040cb6a",
   "metadata": {},
   "outputs": [],
   "source": [
    "categorical_features = [\n",
    "    'transaction_type', 'merchant_category', 'location', 'device_used',\n",
    "    'payment_channel', 'time_of_day', 'type_device_interaction',\n",
    "    'channel_merchant_interaction'\n",
    "]\n",
    "\n",
    "for col in categorical_features:\n",
    "    X_train[col] = X_train[col].astype('category')\n",
    "    X_validation[col] = X_validation[col].astype('category')\n",
    "    X_test[col] = X_test[col].astype('category')\n",
    "    \n",
    "y_train['is_fraud'] = y_train['is_fraud'].astype(int)\n",
    "y_validation['is_fraud'] = y_validation['is_fraud'].astype(int)\n",
    "y_test['is_fraud'] = y_test['is_fraud'].astype(int)\n",
    "\n",
    "y_train = y_train['is_fraud']\n",
    "y_validation = y_validation['is_fraud']\n",
    "y_test = y_test['is_fraud']"
   ]
  },
  {
   "cell_type": "code",
   "execution_count": null,
   "id": "da4b7cf6",
   "metadata": {},
   "outputs": [
    {
     "name": "stdout",
     "output_type": "stream",
     "text": [
      "Training LightGBM model with native API...\n",
      "Training until validation scores don't improve for 100 rounds\n",
      "Early stopping, best iteration is:\n",
      "[1]\tvalidation's binary_logloss: 0.19608\n",
      "\n",
      "Model training successful!\n"
     ]
    }
   ],
   "source": [
    "# Create LightGBM Dataset objects\n",
    "train_data = lgb.Dataset(\n",
    "    X_train, \n",
    "    label=y_train, \n",
    "    categorical_feature=categorical_features, \n",
    "    free_raw_data=False\n",
    ")\n",
    "validation_data = lgb.Dataset(\n",
    "    X_validation, \n",
    "    label=y_validation, \n",
    "    categorical_feature=categorical_features,\n",
    "    free_raw_data=False\n",
    ")\n",
    "\n",
    "# Define all parameters in a single dictionary\n",
    "scale_pos_weight = y_train.value_counts().iloc[0] / y_train.value_counts().iloc[1]\n",
    "params = {\n",
    "    'objective': 'binary',\n",
    "    'eval_metric': 'aucpr',\n",
    "    'scale_pos_weight': scale_pos_weight,\n",
    "    'random_state': 42,\n",
    "    'n_jobs': -1,\n",
    "    'boosting_type': 'gbdt',\n",
    "    'verbose': -1\n",
    "}\n",
    "\n",
    "# Train the model\n",
    "print(\"Training LightGBM model with native API...\")\n",
    "model = lgb.train(\n",
    "    params,\n",
    "    train_set=train_data,\n",
    "    num_boost_round=10000,\n",
    "    valid_sets=[validation_data],\n",
    "    valid_names=['validation'],\n",
    "    callbacks=[lgb.early_stopping(100, verbose=True)]\n",
    ")\n",
    "\n",
    "print(\"\\nModel training successful!\")"
   ]
  },
  {
   "cell_type": "code",
   "execution_count": 35,
   "id": "381eeb10",
   "metadata": {},
   "outputs": [
    {
     "name": "stdout",
     "output_type": "stream",
     "text": [
      "Test Set AUC-ROC: 0.6095\n",
      "Test Set AUCPR (Average Precision): 0.0458\n"
     ]
    }
   ],
   "source": [
    "# Predict probabilities on the test set\n",
    "y_pred_proba = model.predict(X_test)\n",
    "\n",
    "# Calculate metric scores\n",
    "auc_roc = roc_auc_score(y_test, y_pred_proba)\n",
    "auc_pr = average_precision_score(y_test, y_pred_proba)\n",
    "\n",
    "print(f\"Test Set AUC-ROC: {auc_roc:.4f}\")\n",
    "print(f\"Test Set AUCPR (Average Precision): {auc_pr:.4f}\")"
   ]
  }
 ],
 "metadata": {
  "kernelspec": {
   "display_name": "anomaly-fraud-detection-3.12",
   "language": "python",
   "name": "python3"
  },
  "language_info": {
   "codemirror_mode": {
    "name": "ipython",
    "version": 3
   },
   "file_extension": ".py",
   "mimetype": "text/x-python",
   "name": "python",
   "nbconvert_exporter": "python",
   "pygments_lexer": "ipython3",
   "version": "3.12.10"
  }
 },
 "nbformat": 4,
 "nbformat_minor": 5
}
