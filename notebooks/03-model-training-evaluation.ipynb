{
 "cells": [
  {
   "cell_type": "code",
   "execution_count": 44,
   "id": "3189c76c",
   "metadata": {},
   "outputs": [],
   "source": [
    "import pandas as pd\n",
    "import lightgbm as lgb\n",
    "from sklearn.metrics import roc_auc_score, average_precision_score\n",
    "import optuna"
   ]
  },
  {
   "cell_type": "code",
   "execution_count": 4,
   "id": "ca38a4ea",
   "metadata": {},
   "outputs": [],
   "source": [
    "X_train = pd.read_csv('../output/split-dataset/X_train.csv')\n",
    "y_train = pd.read_csv('../output/split-dataset/y_train.csv')\n",
    "X_validation = pd.read_csv('../output/split-dataset/X_validation.csv')\n",
    "y_validation = pd.read_csv('../output/split-dataset/y_validation.csv')\n",
    "X_test = pd.read_csv('../output/split-dataset/X_test.csv')\n",
    "y_test = pd.read_csv('../output/split-dataset/y_test.csv')"
   ]
  },
  {
   "cell_type": "code",
   "execution_count": null,
   "id": "f040cb6a",
   "metadata": {},
   "outputs": [],
   "source": [
    "categorical_features = [\n",
    "    'transaction_type', 'merchant_category', 'location', 'device_used',\n",
    "    'payment_channel', 'time_of_day', 'type_device_interaction',\n",
    "    'channel_merchant_interaction'\n",
    "]\n",
    "\n",
    "for col in categorical_features:\n",
    "    X_train[col] = X_train[col].astype('category')\n",
    "    X_validation[col] = X_validation[col].astype('category')\n",
    "    X_test[col] = X_test[col].astype('category')\n",
    "    \n",
    "y_train['is_fraud'] = y_train['is_fraud'].astype(int)\n",
    "y_validation['is_fraud'] = y_validation['is_fraud'].astype(int)\n",
    "y_test['is_fraud'] = y_test['is_fraud'].astype(int)\n",
    "\n",
    "y_train = y_train['is_fraud']\n",
    "y_validation = y_validation['is_fraud']\n",
    "y_test = y_test['is_fraud']"
   ]
  },
  {
   "cell_type": "markdown",
   "id": "ddc5eb24",
   "metadata": {},
   "source": [
    "## LightGBM"
   ]
  },
  {
   "cell_type": "code",
   "execution_count": 40,
   "id": "da4b7cf6",
   "metadata": {},
   "outputs": [
    {
     "name": "stdout",
     "output_type": "stream",
     "text": [
      "Training LightGBM model with native API...\n",
      "Training until validation scores don't improve for 100 rounds\n",
      "Early stopping, best iteration is:\n",
      "[1]\tvalidation's auc: 0.610109\n",
      "\n",
      "Model training successful!\n"
     ]
    }
   ],
   "source": [
    "# Create LightGBM Dataset objects\n",
    "train_data = lgb.Dataset(\n",
    "    X_train, \n",
    "    label=y_train, \n",
    "    categorical_feature=categorical_features, \n",
    "    free_raw_data=False\n",
    ")\n",
    "validation_data = lgb.Dataset(\n",
    "    X_validation, \n",
    "    label=y_validation, \n",
    "    categorical_feature=categorical_features,\n",
    "    free_raw_data=False\n",
    ")\n",
    "\n",
    "# Define all parameters in a single dictionary\n",
    "scale_pos_weight = y_train.value_counts().iloc[0] / y_train.value_counts().iloc[1]\n",
    "params = {\n",
    "    'objective': 'binary',\n",
    "    'metric': 'auc',\n",
    "    'scale_pos_weight': scale_pos_weight,\n",
    "    'random_state': 42,\n",
    "    'n_jobs': -1,\n",
    "    'boosting_type': 'gbdt',\n",
    "    'verbose': -1\n",
    "}\n",
    "\n",
    "# Train the model\n",
    "print(\"Training LightGBM model with native API...\")\n",
    "model = lgb.train(\n",
    "    params,\n",
    "    train_set=train_data,\n",
    "    num_boost_round=1000,\n",
    "    valid_sets=[validation_data],\n",
    "    valid_names=['validation'],\n",
    "    callbacks=[lgb.early_stopping(100, verbose=True)]\n",
    ")\n",
    "\n",
    "print(\"\\nModel training successful!\")"
   ]
  },
  {
   "cell_type": "code",
   "execution_count": 42,
   "id": "381eeb10",
   "metadata": {},
   "outputs": [
    {
     "name": "stdout",
     "output_type": "stream",
     "text": [
      "Test Set AUC-ROC: 0.6095\n",
      "Test Set AUCPR (Average Precision): 0.0458\n"
     ]
    }
   ],
   "source": [
    "# Predict probabilities on the test set\n",
    "y_pred_proba = model.predict(X_test)\n",
    "\n",
    "# Calculate metric scores\n",
    "auc_roc = roc_auc_score(y_test, y_pred_proba)\n",
    "auc_pr = average_precision_score(y_test, y_pred_proba)\n",
    "\n",
    "print(f\"Test Set AUC-ROC: {auc_roc:.4f}\")\n",
    "print(f\"Test Set AUCPR (Average Precision): {auc_pr:.4f}\")"
   ]
  },
  {
   "cell_type": "code",
   "execution_count": null,
   "id": "a53f38fb",
   "metadata": {},
   "outputs": [
    {
     "name": "stderr",
     "output_type": "stream",
     "text": [
      "[I 2025-07-27 15:04:20,238] A new study created in memory with name: no-name-3cc3fb3c-1650-4ecc-80bd-39b27f08777f\n",
      "[I 2025-07-27 15:04:58,377] Trial 0 finished with value: 0.04354217169439828 and parameters: {'scale_pos_weight': 25.483870883786715, 'learning_rate': 0.03793973579930634, 'n_estimators': 1134, 'num_leaves': 81, 'max_depth': 10, 'feature_fraction': 0.5396779032939671, 'bagging_fraction': 0.925404659584182, 'bagging_freq': 6, 'lambda_l1': 0.17826706386781654, 'lambda_l2': 0.007025053492115024}. Best is trial 0 with value: 0.04354217169439828.\n",
      "[I 2025-07-27 15:05:26,904] Trial 1 finished with value: 0.045638339771735405 and parameters: {'scale_pos_weight': 20.11192259952181, 'learning_rate': 0.031145828992214707, 'n_estimators': 1196, 'num_leaves': 33, 'max_depth': 6, 'feature_fraction': 0.9908219293605038, 'bagging_fraction': 0.6880423101764725, 'bagging_freq': 3, 'lambda_l1': 1.523243276229092e-07, 'lambda_l2': 7.458803909691769e-05}. Best is trial 1 with value: 0.045638339771735405.\n",
      "[I 2025-07-27 15:05:50,490] Trial 2 finished with value: 0.045771789258016476 and parameters: {'scale_pos_weight': 25.4137219368167, 'learning_rate': 0.01207639397344273, 'n_estimators': 604, 'num_leaves': 20, 'max_depth': 8, 'feature_fraction': 0.9025988316379276, 'bagging_fraction': 0.9921200071593628, 'bagging_freq': 1, 'lambda_l1': 1.1309367592372397e-05, 'lambda_l2': 3.013819749663988e-06}. Best is trial 2 with value: 0.045771789258016476.\n",
      "[I 2025-07-27 15:06:16,722] Trial 3 finished with value: 0.04574467236303944 and parameters: {'scale_pos_weight': 24.2845729261651, 'learning_rate': 0.05181660261448763, 'n_estimators': 1048, 'num_leaves': 83, 'max_depth': 5, 'feature_fraction': 0.8127193641013832, 'bagging_fraction': 0.87875629934519, 'bagging_freq': 7, 'lambda_l1': 0.0009935063578433976, 'lambda_l2': 1.5525107103981535}. Best is trial 2 with value: 0.045771789258016476.\n",
      "[I 2025-07-27 15:06:51,902] Trial 4 finished with value: 0.043634933871191973 and parameters: {'scale_pos_weight': 29.897131174506153, 'learning_rate': 0.029546977718356578, 'n_estimators': 1162, 'num_leaves': 24, 'max_depth': 7, 'feature_fraction': 0.5106933396741458, 'bagging_fraction': 0.8232086028715977, 'bagging_freq': 3, 'lambda_l1': 0.002888341175683598, 'lambda_l2': 0.008771220930578126}. Best is trial 2 with value: 0.045771789258016476.\n",
      "[I 2025-07-27 15:07:18,405] Trial 5 finished with value: 0.04591770037770585 and parameters: {'scale_pos_weight': 21.19585729758697, 'learning_rate': 0.05255683903672052, 'n_estimators': 1673, 'num_leaves': 93, 'max_depth': 10, 'feature_fraction': 0.7756965247111272, 'bagging_fraction': 0.5185663198238428, 'bagging_freq': 4, 'lambda_l1': 0.15082274913419877, 'lambda_l2': 0.0062222453051174334}. Best is trial 5 with value: 0.04591770037770585.\n",
      "[I 2025-07-27 15:07:40,490] Trial 6 finished with value: 0.04609151929146557 and parameters: {'scale_pos_weight': 29.131593753940493, 'learning_rate': 0.030732760539755197, 'n_estimators': 620, 'num_leaves': 21, 'max_depth': 13, 'feature_fraction': 0.6556004046474186, 'bagging_fraction': 0.5217419801992945, 'bagging_freq': 3, 'lambda_l1': 2.046064465504215e-06, 'lambda_l2': 6.230091660572558e-06}. Best is trial 6 with value: 0.04609151929146557.\n",
      "[I 2025-07-27 15:08:07,094] Trial 7 finished with value: 0.04554002215304977 and parameters: {'scale_pos_weight': 29.906341886575994, 'learning_rate': 0.024729878308884394, 'n_estimators': 717, 'num_leaves': 52, 'max_depth': 9, 'feature_fraction': 0.7708999493652053, 'bagging_fraction': 0.6573434148255144, 'bagging_freq': 2, 'lambda_l1': 0.013387928496688298, 'lambda_l2': 1.1898770905613449e-08}. Best is trial 6 with value: 0.04609151929146557.\n",
      "[I 2025-07-27 15:08:29,415] Trial 8 finished with value: 0.04602318404138482 and parameters: {'scale_pos_weight': 26.46709569405402, 'learning_rate': 0.06938406666057244, 'n_estimators': 1647, 'num_leaves': 32, 'max_depth': 8, 'feature_fraction': 0.9680517076266553, 'bagging_fraction': 0.9236073528609369, 'bagging_freq': 7, 'lambda_l1': 0.000357766282283285, 'lambda_l2': 1.330159070355265e-07}. Best is trial 6 with value: 0.04609151929146557.\n",
      "[I 2025-07-27 15:08:51,555] Trial 9 finished with value: 0.0456408960524783 and parameters: {'scale_pos_weight': 28.78044655380109, 'learning_rate': 0.07506663857113835, 'n_estimators': 1092, 'num_leaves': 66, 'max_depth': 10, 'feature_fraction': 0.9921161007255475, 'bagging_fraction': 0.7827468454132107, 'bagging_freq': 7, 'lambda_l1': 5.228552105520667e-06, 'lambda_l2': 1.4172266042449696e-07}. Best is trial 6 with value: 0.04609151929146557.\n",
      "[I 2025-07-27 15:09:13,699] Trial 10 finished with value: 0.04603056416855387 and parameters: {'scale_pos_weight': 27.838506213002688, 'learning_rate': 0.016308431882054972, 'n_estimators': 777, 'num_leaves': 45, 'max_depth': 14, 'feature_fraction': 0.6356917206267758, 'bagging_fraction': 0.5116188914321388, 'bagging_freq': 5, 'lambda_l1': 3.2162157140230964e-08, 'lambda_l2': 3.0246165904802335e-05}. Best is trial 6 with value: 0.04609151929146557.\n",
      "[I 2025-07-27 15:09:35,871] Trial 11 finished with value: 0.04600594574941297 and parameters: {'scale_pos_weight': 27.258984943797756, 'learning_rate': 0.015935844866625463, 'n_estimators': 803, 'num_leaves': 48, 'max_depth': 14, 'feature_fraction': 0.6359232028478181, 'bagging_fraction': 0.5004609377909113, 'bagging_freq': 5, 'lambda_l1': 2.057266688851637e-08, 'lambda_l2': 2.8239019567571046e-05}. Best is trial 6 with value: 0.04609151929146557.\n",
      "[I 2025-07-27 15:09:57,952] Trial 12 finished with value: 0.04567281821394531 and parameters: {'scale_pos_weight': 28.025890918992616, 'learning_rate': 0.01841103844104422, 'n_estimators': 530, 'num_leaves': 41, 'max_depth': 14, 'feature_fraction': 0.6518178134005841, 'bagging_fraction': 0.5865245050585686, 'bagging_freq': 5, 'lambda_l1': 1.5536490087111347e-06, 'lambda_l2': 6.735221273340358e-06}. Best is trial 6 with value: 0.04609151929146557.\n",
      "[I 2025-07-27 15:10:22,771] Trial 13 finished with value: 0.04552717254681178 and parameters: {'scale_pos_weight': 23.445966419327874, 'learning_rate': 0.010124631963663118, 'n_estimators': 862, 'num_leaves': 59, 'max_depth': 12, 'feature_fraction': 0.6407799756851229, 'bagging_fraction': 0.5915792078848087, 'bagging_freq': 4, 'lambda_l1': 2.5806371990969463e-08, 'lambda_l2': 0.000705050701632075}. Best is trial 6 with value: 0.04609151929146557.\n",
      "[I 2025-07-27 15:10:46,703] Trial 14 finished with value: 0.04562681649625054 and parameters: {'scale_pos_weight': 28.48603016698098, 'learning_rate': 0.019013866003076255, 'n_estimators': 1989, 'num_leaves': 39, 'max_depth': 12, 'feature_fraction': 0.6978354964356515, 'bagging_fraction': 0.5946534305513147, 'bagging_freq': 3, 'lambda_l1': 4.6911525631778797e-07, 'lambda_l2': 1.1395537643371605e-06}. Best is trial 6 with value: 0.04609151929146557.\n",
      "[I 2025-07-27 15:11:14,041] Trial 15 finished with value: 0.04358445484415821 and parameters: {'scale_pos_weight': 26.683836296700402, 'learning_rate': 0.023519993669360268, 'n_estimators': 898, 'num_leaves': 67, 'max_depth': 15, 'feature_fraction': 0.5788341391335705, 'bagging_fraction': 0.6646802143339227, 'bagging_freq': 5, 'lambda_l1': 9.556650583509914, 'lambda_l2': 0.00031643667535766656}. Best is trial 6 with value: 0.04609151929146557.\n",
      "[I 2025-07-27 15:11:35,459] Trial 16 finished with value: 0.0459628358878278 and parameters: {'scale_pos_weight': 28.893631658027203, 'learning_rate': 0.013874984506034273, 'n_estimators': 537, 'num_leaves': 29, 'max_depth': 12, 'feature_fraction': 0.720315534973326, 'bagging_fraction': 0.5587030710432866, 'bagging_freq': 1, 'lambda_l1': 4.912443327736192e-05, 'lambda_l2': 1.0190853649482894}. Best is trial 6 with value: 0.04609151929146557.\n",
      "[I 2025-07-27 15:12:04,184] Trial 17 finished with value: 0.04400897136086093 and parameters: {'scale_pos_weight': 23.023573035150093, 'learning_rate': 0.04431857100255501, 'n_estimators': 1443, 'num_leaves': 46, 'max_depth': 13, 'feature_fraction': 0.5853871884812865, 'bagging_fraction': 0.7131764834848942, 'bagging_freq': 2, 'lambda_l1': 1.0476773763207534e-07, 'lambda_l2': 3.838353856592633e-07}. Best is trial 6 with value: 0.04609151929146557.\n",
      "[I 2025-07-27 15:12:26,053] Trial 18 finished with value: 0.045921205810317355 and parameters: {'scale_pos_weight': 27.519527295898772, 'learning_rate': 0.022869970403319426, 'n_estimators': 686, 'num_leaves': 58, 'max_depth': 15, 'feature_fraction': 0.8464744535525969, 'bagging_fraction': 0.5453201748656709, 'bagging_freq': 6, 'lambda_l1': 1.74959771306619e-05, 'lambda_l2': 0.142268855517828}. Best is trial 6 with value: 0.04609151929146557.\n",
      "[I 2025-07-27 15:12:47,543] Trial 19 finished with value: 0.045806342381864804 and parameters: {'scale_pos_weight': 26.329732980263852, 'learning_rate': 0.09346356939087425, 'n_estimators': 933, 'num_leaves': 38, 'max_depth': 13, 'feature_fraction': 0.673459089645151, 'bagging_fraction': 0.6290942810917729, 'bagging_freq': 4, 'lambda_l1': 9.051083141082204e-07, 'lambda_l2': 2.6787332452654977e-05}. Best is trial 6 with value: 0.04609151929146557.\n",
      "[I 2025-07-27 15:13:13,219] Trial 20 finished with value: 0.044030818618198464 and parameters: {'scale_pos_weight': 29.12731560488478, 'learning_rate': 0.018158627968456856, 'n_estimators': 1421, 'num_leaves': 20, 'max_depth': 11, 'feature_fraction': 0.5937708702640875, 'bagging_fraction': 0.7451532075590346, 'bagging_freq': 2, 'lambda_l1': 7.446664660379159e-05, 'lambda_l2': 0.0009193239919892183}. Best is trial 6 with value: 0.04609151929146557.\n",
      "[I 2025-07-27 15:13:36,250] Trial 21 finished with value: 0.045805735128248426 and parameters: {'scale_pos_weight': 26.02894022722256, 'learning_rate': 0.06685045849623807, 'n_estimators': 1798, 'num_leaves': 28, 'max_depth': 8, 'feature_fraction': 0.9426021988752971, 'bagging_fraction': 0.9983829984435562, 'bagging_freq': 6, 'lambda_l1': 0.00019141303980656116, 'lambda_l2': 4.609479041657959e-08}. Best is trial 6 with value: 0.04609151929146557.\n",
      "[I 2025-07-27 15:13:58,475] Trial 22 finished with value: 0.0459614442963472 and parameters: {'scale_pos_weight': 27.25245399410054, 'learning_rate': 0.035927085054603264, 'n_estimators': 1393, 'num_leaves': 28, 'max_depth': 14, 'feature_fraction': 0.7287999441585716, 'bagging_fraction': 0.8438482087340151, 'bagging_freq': 7, 'lambda_l1': 1.0853086252524216e-07, 'lambda_l2': 1.0525591819140465e-06}. Best is trial 6 with value: 0.04609151929146557.\n",
      "[I 2025-07-27 15:14:23,112] Trial 23 finished with value: 0.04599625786060173 and parameters: {'scale_pos_weight': 28.072265816037245, 'learning_rate': 0.06940070997446529, 'n_estimators': 1633, 'num_leaves': 33, 'max_depth': 8, 'feature_fraction': 0.8575144754488635, 'bagging_fraction': 0.93317520787094, 'bagging_freq': 6, 'lambda_l1': 1.2317174143725974e-08, 'lambda_l2': 8.485457373434466e-08}. Best is trial 6 with value: 0.04609151929146557.\n",
      "[I 2025-07-27 15:14:48,212] Trial 24 finished with value: 0.04389256669738763 and parameters: {'scale_pos_weight': 24.47170137438471, 'learning_rate': 0.08804782904387927, 'n_estimators': 729, 'num_leaves': 45, 'max_depth': 13, 'feature_fraction': 0.6097442780182742, 'bagging_fraction': 0.773439518416875, 'bagging_freq': 4, 'lambda_l1': 3.0752144919565344e-06, 'lambda_l2': 1.0040189515291122e-05}. Best is trial 6 with value: 0.04609151929146557.\n",
      "[I 2025-07-27 15:15:10,501] Trial 25 finished with value: 0.045915217748631054 and parameters: {'scale_pos_weight': 26.584659035028277, 'learning_rate': 0.052067217176851775, 'n_estimators': 1273, 'num_leaves': 35, 'max_depth': 11, 'feature_fraction': 0.6975637966189027, 'bagging_fraction': 0.542658037247074, 'bagging_freq': 5, 'lambda_l1': 0.0007982693006885892, 'lambda_l2': 1.0791206690233274e-08}. Best is trial 6 with value: 0.04609151929146557.\n",
      "[I 2025-07-27 15:15:35,856] Trial 26 finished with value: 0.043648897002431034 and parameters: {'scale_pos_weight': 29.39887407864397, 'learning_rate': 0.028107716172730376, 'n_estimators': 1993, 'num_leaves': 54, 'max_depth': 15, 'feature_fraction': 0.5436474506276368, 'bagging_fraction': 0.624130943467975, 'bagging_freq': 3, 'lambda_l1': 0.006568637120041571, 'lambda_l2': 8.885266570000914e-05}. Best is trial 6 with value: 0.04609151929146557.\n",
      "[I 2025-07-27 15:15:59,978] Trial 27 finished with value: 0.045973333739951563 and parameters: {'scale_pos_weight': 27.70483999216575, 'learning_rate': 0.03815684512141845, 'n_estimators': 1001, 'num_leaves': 25, 'max_depth': 7, 'feature_fraction': 0.9214978881888692, 'bagging_fraction': 0.9289786912185061, 'bagging_freq': 7, 'lambda_l1': 4.5904319165196507e-07, 'lambda_l2': 1.2612203190975062e-06}. Best is trial 6 with value: 0.04609151929146557.\n",
      "[I 2025-07-27 15:16:23,685] Trial 28 finished with value: 0.045659723928502295 and parameters: {'scale_pos_weight': 27.070954641533255, 'learning_rate': 0.013197663910562428, 'n_estimators': 1320, 'num_leaves': 42, 'max_depth': 9, 'feature_fraction': 0.7553418525660948, 'bagging_fraction': 0.7177975983106065, 'bagging_freq': 6, 'lambda_l1': 2.746344547776972e-05, 'lambda_l2': 1.5848908069865677e-07}. Best is trial 6 with value: 0.04609151929146557.\n",
      "[I 2025-07-27 15:16:49,662] Trial 29 finished with value: 0.04586369125039555 and parameters: {'scale_pos_weight': 25.469303318318822, 'learning_rate': 0.041824036568723376, 'n_estimators': 1563, 'num_leaves': 67, 'max_depth': 11, 'feature_fraction': 0.8095254885780738, 'bagging_fraction': 0.88832963055682, 'bagging_freq': 6, 'lambda_l1': 0.13868205097798578, 'lambda_l2': 0.004428224850363341}. Best is trial 6 with value: 0.04609151929146557.\n",
      "[I 2025-07-27 15:17:20,627] Trial 30 finished with value: 0.04372913951813702 and parameters: {'scale_pos_weight': 28.373001455804488, 'learning_rate': 0.021124999543880904, 'n_estimators': 1853, 'num_leaves': 76, 'max_depth': 9, 'feature_fraction': 0.5289888215053047, 'bagging_fraction': 0.9683053604113177, 'bagging_freq': 4, 'lambda_l1': 0.027757115153433865, 'lambda_l2': 4.796587002438005e-06}. Best is trial 6 with value: 0.04609151929146557.\n",
      "[I 2025-07-27 15:17:43,251] Trial 31 finished with value: 0.046002600017612374 and parameters: {'scale_pos_weight': 27.075324046699265, 'learning_rate': 0.014873917170527762, 'n_estimators': 832, 'num_leaves': 51, 'max_depth': 14, 'feature_fraction': 0.6277298012683659, 'bagging_fraction': 0.5017635959077242, 'bagging_freq': 5, 'lambda_l1': 2.535474408543097e-08, 'lambda_l2': 3.0612024819017e-05}. Best is trial 6 with value: 0.04609151929146557.\n",
      "[I 2025-07-27 15:18:05,785] Trial 32 finished with value: 0.045980175326835224 and parameters: {'scale_pos_weight': 27.766295805410067, 'learning_rate': 0.01502798022026594, 'n_estimators': 790, 'num_leaves': 46, 'max_depth': 14, 'feature_fraction': 0.674655200599111, 'bagging_fraction': 0.5187238530512274, 'bagging_freq': 5, 'lambda_l1': 6.542147826394099e-08, 'lambda_l2': 0.00011411733308266006}. Best is trial 6 with value: 0.04609151929146557.\n",
      "[I 2025-07-27 15:18:29,509] Trial 33 finished with value: 0.04581653849983335 and parameters: {'scale_pos_weight': 26.047462806111962, 'learning_rate': 0.011647552140952784, 'n_estimators': 614, 'num_leaves': 34, 'max_depth': 13, 'feature_fraction': 0.6602764720396974, 'bagging_fraction': 0.5626989336928512, 'bagging_freq': 3, 'lambda_l1': 3.3078343271823816e-07, 'lambda_l2': 1.6705842200050442e-05}. Best is trial 6 with value: 0.04609151929146557.\n",
      "[I 2025-07-27 15:18:54,672] Trial 34 finished with value: 0.04366642377024285 and parameters: {'scale_pos_weight': 24.779848661235075, 'learning_rate': 0.026633458629950493, 'n_estimators': 955, 'num_leaves': 49, 'max_depth': 5, 'feature_fraction': 0.5671132194395032, 'bagging_fraction': 0.5091114209134063, 'bagging_freq': 5, 'lambda_l1': 0.00020859520204357916, 'lambda_l2': 2.2154221798084727e-06}. Best is trial 6 with value: 0.04609151929146557.\n",
      "[I 2025-07-27 15:19:16,685] Trial 35 finished with value: 0.0436101346665384 and parameters: {'scale_pos_weight': 29.463455925190406, 'learning_rate': 0.01632148729629061, 'n_estimators': 604, 'num_leaves': 22, 'max_depth': 15, 'feature_fraction': 0.6140876485912484, 'bagging_fraction': 0.6204144732899439, 'bagging_freq': 6, 'lambda_l1': 5.675781379132622e-06, 'lambda_l2': 4.970624195379115e-07}. Best is trial 6 with value: 0.04609151929146557.\n",
      "[I 2025-07-27 15:19:38,812] Trial 36 finished with value: 0.04591050754385768 and parameters: {'scale_pos_weight': 25.688565478738337, 'learning_rate': 0.03194400108060708, 'n_estimators': 1184, 'num_leaves': 30, 'max_depth': 7, 'feature_fraction': 0.966384343173558, 'bagging_fraction': 0.526197244016108, 'bagging_freq': 3, 'lambda_l1': 1.4756933996899939e-08, 'lambda_l2': 5.474095972715699e-05}. Best is trial 6 with value: 0.04609151929146557.\n",
      "[I 2025-07-27 15:20:06,661] Trial 37 finished with value: 0.0457498508074051 and parameters: {'scale_pos_weight': 26.8335138746154, 'learning_rate': 0.011029955421354487, 'n_estimators': 744, 'num_leaves': 36, 'max_depth': 6, 'feature_fraction': 0.7100158292020251, 'bagging_fraction': 0.5713630713628707, 'bagging_freq': 2, 'lambda_l1': 4.8912397035807496e-08, 'lambda_l2': 0.0001925893384900081}. Best is trial 6 with value: 0.04609151929146557.\n",
      "[I 2025-07-27 15:20:36,146] Trial 38 finished with value: 0.04370467573831599 and parameters: {'scale_pos_weight': 21.300723635480416, 'learning_rate': 0.058780730698475434, 'n_estimators': 1533, 'num_leaves': 55, 'max_depth': 14, 'feature_fraction': 0.5011187934824339, 'bagging_fraction': 0.816929449831387, 'bagging_freq': 7, 'lambda_l1': 0.0009551141994320027, 'lambda_l2': 3.363924778523414e-08}. Best is trial 6 with value: 0.04609151929146557.\n",
      "[I 2025-07-27 15:21:03,550] Trial 39 finished with value: 0.04554381378966512 and parameters: {'scale_pos_weight': 28.494886252656457, 'learning_rate': 0.032069129867742074, 'n_estimators': 1135, 'num_leaves': 94, 'max_depth': 12, 'feature_fraction': 0.8085161039345166, 'bagging_fraction': 0.8856757204155365, 'bagging_freq': 4, 'lambda_l1': 1.8494115889024116e-07, 'lambda_l2': 0.001750150469607623}. Best is trial 6 with value: 0.04609151929146557.\n",
      "[I 2025-07-27 15:21:33,269] Trial 40 finished with value: 0.0440027350069041 and parameters: {'scale_pos_weight': 29.727537005424036, 'learning_rate': 0.021350101542525934, 'n_estimators': 637, 'num_leaves': 100, 'max_depth': 10, 'feature_fraction': 0.5602886237755492, 'bagging_fraction': 0.6686483863794405, 'bagging_freq': 5, 'lambda_l1': 1.6998463471049968e-06, 'lambda_l2': 0.017361054845743944}. Best is trial 6 with value: 0.04609151929146557.\n",
      "[I 2025-07-27 15:21:56,199] Trial 41 finished with value: 0.04379409559930208 and parameters: {'scale_pos_weight': 27.330514020734473, 'learning_rate': 0.015979819362217575, 'n_estimators': 825, 'num_leaves': 50, 'max_depth': 14, 'feature_fraction': 0.6246000623588699, 'bagging_fraction': 0.5311363381354665, 'bagging_freq': 5, 'lambda_l1': 2.7725136306754036e-08, 'lambda_l2': 3.3707626248313706e-05}. Best is trial 6 with value: 0.04609151929146557.\n",
      "[I 2025-07-27 15:22:19,361] Trial 42 finished with value: 0.04591395046552778 and parameters: {'scale_pos_weight': 28.121756004342934, 'learning_rate': 0.012992949885806333, 'n_estimators': 1040, 'num_leaves': 63, 'max_depth': 14, 'feature_fraction': 0.6424246836650859, 'bagging_fraction': 0.5081297728931677, 'bagging_freq': 4, 'lambda_l1': 1.171733353826597e-08, 'lambda_l2': 8.789690545287085e-06}. Best is trial 6 with value: 0.04609151929146557.\n",
      "[I 2025-07-27 15:22:42,276] Trial 43 finished with value: 0.04551172265603175 and parameters: {'scale_pos_weight': 26.24180109422637, 'learning_rate': 0.018187954661813225, 'n_estimators': 806, 'num_leaves': 45, 'max_depth': 13, 'feature_fraction': 0.6799495737507082, 'bagging_fraction': 0.5812411609929016, 'bagging_freq': 5, 'lambda_l1': 4.2240612415597314e-08, 'lambda_l2': 0.000313949095916338}. Best is trial 6 with value: 0.04609151929146557.\n",
      "[I 2025-07-27 15:23:02,958] Trial 44 finished with value: 0.04549357452933578 and parameters: {'scale_pos_weight': 28.86769820755054, 'learning_rate': 0.0157837424731322, 'n_estimators': 670, 'num_leaves': 24, 'max_depth': 15, 'feature_fraction': 0.6337970396910952, 'bagging_fraction': 0.5460159273293401, 'bagging_freq': 6, 'lambda_l1': 7.463947871605657e-07, 'lambda_l2': 2.7682862984997506e-06}. Best is trial 6 with value: 0.04609151929146557.\n",
      "[I 2025-07-27 15:23:25,839] Trial 45 finished with value: 0.04388123078815519 and parameters: {'scale_pos_weight': 25.222319412108124, 'learning_rate': 0.01445169652661177, 'n_estimators': 514, 'num_leaves': 42, 'max_depth': 12, 'feature_fraction': 0.5923721238546308, 'bagging_fraction': 0.5286442320645951, 'bagging_freq': 5, 'lambda_l1': 1.9914911487980727e-07, 'lambda_l2': 2.629468998056074e-05}. Best is trial 6 with value: 0.04609151929146557.\n",
      "[I 2025-07-27 15:23:50,120] Trial 46 finished with value: 0.04585078553140036 and parameters: {'scale_pos_weight': 27.03418735253606, 'learning_rate': 0.010104697726774931, 'n_estimators': 864, 'num_leaves': 72, 'max_depth': 14, 'feature_fraction': 0.7420654580073875, 'bagging_fraction': 0.5022161997393269, 'bagging_freq': 4, 'lambda_l1': 3.52557370669513, 'lambda_l2': 1.2036887679958883e-05}. Best is trial 6 with value: 0.04609151929146557.\n",
      "[I 2025-07-27 15:24:15,061] Trial 47 finished with value: 0.04577076467187197 and parameters: {'scale_pos_weight': 27.517388659637213, 'learning_rate': 0.01968300200290487, 'n_estimators': 998, 'num_leaves': 57, 'max_depth': 13, 'feature_fraction': 0.6600410644105305, 'bagging_fraction': 0.6151202178891672, 'bagging_freq': 3, 'lambda_l1': 1.0286955509314201e-05, 'lambda_l2': 3.4336695804131865e-07}. Best is trial 6 with value: 0.04609151929146557.\n",
      "[I 2025-07-27 15:24:38,499] Trial 48 finished with value: 0.04530960767762141 and parameters: {'scale_pos_weight': 26.55434653560117, 'learning_rate': 0.01209799552628457, 'n_estimators': 772, 'num_leaves': 51, 'max_depth': 15, 'feature_fraction': 0.8672189478941528, 'bagging_fraction': 0.600112948242947, 'bagging_freq': 5, 'lambda_l1': 8.642791818699948e-08, 'lambda_l2': 6.069161857276186e-05}. Best is trial 6 with value: 0.04609151929146557.\n",
      "[I 2025-07-27 15:24:59,383] Trial 49 finished with value: 0.04543729186032205 and parameters: {'scale_pos_weight': 23.70843882551622, 'learning_rate': 0.026220538031909244, 'n_estimators': 562, 'num_leaves': 38, 'max_depth': 9, 'feature_fraction': 0.7725168174719953, 'bagging_fraction': 0.5577374677966394, 'bagging_freq': 1, 'lambda_l1': 0.0026225963846870522, 'lambda_l2': 0.000561858480863466}. Best is trial 6 with value: 0.04609151929146557.\n"
     ]
    },
    {
     "name": "stdout",
     "output_type": "stream",
     "text": [
      "Best trial:\n",
      "  Value (AUCPR): 0.04609151929146557\n",
      "  Params: \n",
      "    scale_pos_weight: 29.131593753940493\n",
      "    learning_rate: 0.030732760539755197\n",
      "    n_estimators: 620\n",
      "    num_leaves: 21\n",
      "    max_depth: 13\n",
      "    feature_fraction: 0.6556004046474186\n",
      "    bagging_fraction: 0.5217419801992945\n",
      "    bagging_freq: 3\n",
      "    lambda_l1: 2.046064465504215e-06\n",
      "    lambda_l2: 6.230091660572558e-06\n"
     ]
    }
   ],
   "source": [
    "def objective(trial):\n",
    "    # Hyperparameter search space\n",
    "    params = {\n",
    "        'objective': 'binary',\n",
    "        'boosting_type': 'gbdt',\n",
    "        'random_state': 42,\n",
    "        'n_jobs': -1,\n",
    "        'verbose': -1,\n",
    "        'scale_pos_weight': trial.suggest_float('scale_pos_weight', 20, 30),\n",
    "        \n",
    "        # Core parameters for controlling complexity and learning\n",
    "        'learning_rate': trial.suggest_float('learning_rate', 0.01, 0.1, log=True),\n",
    "        'n_estimators': trial.suggest_int('n_estimators', 500, 2000),\n",
    "        'num_leaves': trial.suggest_int('num_leaves', 20, 100),\n",
    "        'max_depth': trial.suggest_int('max_depth', 5, 15),\n",
    "        \n",
    "        # Regularization and subsampling to prevent overfitting\n",
    "        'feature_fraction': trial.suggest_float('feature_fraction', 0.5, 1.0),\n",
    "        'bagging_fraction': trial.suggest_float('bagging_fraction', 0.5, 1.0),\n",
    "        'bagging_freq': trial.suggest_int('bagging_freq', 1, 7),\n",
    "        'lambda_l1': trial.suggest_float('lambda_l1', 1e-8, 10.0, log=True),\n",
    "        'lambda_l2': trial.suggest_float('lambda_l2', 1e-8, 10.0, log=True),\n",
    "    }\n",
    "\n",
    "    # Train the model with the suggested hyperparameters\n",
    "    model = lgb.LGBMClassifier(**params)\n",
    "    \n",
    "    model.fit(X_train, y_train,\n",
    "              eval_set=[(X_validation, y_validation)],\n",
    "              eval_metric='auc',\n",
    "              callbacks=[lgb.early_stopping(100, verbose=False)])\n",
    "\n",
    "    # Evaluate and return the score for Optuna to maximize\n",
    "    preds = model.predict_proba(X_validation)[:, 1]\n",
    "    aucpr_score = average_precision_score(y_validation, preds)\n",
    "    \n",
    "    return aucpr_score\n",
    "\n",
    "# Create the study object\n",
    "study = optuna.create_study(direction='maximize')\n",
    "study.optimize(objective, n_trials=50)\n",
    "\n",
    "# Print the best results\n",
    "print(\"Best trial:\")\n",
    "trial = study.best_trial\n",
    "print(f\"  Value (AUCPR): {trial.value}\")\n",
    "print(\"  Params: \")\n",
    "for key, value in trial.params.items():\n",
    "    print(f\"    {key}: {value}\")"
   ]
  }
 ],
 "metadata": {
  "kernelspec": {
   "display_name": "anomaly-fraud-detection-3.12",
   "language": "python",
   "name": "python3"
  },
  "language_info": {
   "codemirror_mode": {
    "name": "ipython",
    "version": 3
   },
   "file_extension": ".py",
   "mimetype": "text/x-python",
   "name": "python",
   "nbconvert_exporter": "python",
   "pygments_lexer": "ipython3",
   "version": "3.12.10"
  }
 },
 "nbformat": 4,
 "nbformat_minor": 5
}
