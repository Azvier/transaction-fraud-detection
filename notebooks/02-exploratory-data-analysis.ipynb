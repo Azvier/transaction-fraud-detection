{
 "cells": [
  {
   "cell_type": "code",
   "execution_count": 1,
   "id": "20e3368f",
   "metadata": {},
   "outputs": [],
   "source": [
    "import pandas as pd"
   ]
  },
  {
   "cell_type": "markdown",
   "id": "185940eb",
   "metadata": {},
   "source": [
    "# Exploratory Data Analysis (EDA)"
   ]
  },
  {
   "cell_type": "code",
   "execution_count": 2,
   "id": "acd9a19e",
   "metadata": {},
   "outputs": [],
   "source": [
    "df = pd.read_csv('../datasets/financial_fraud_feature_engineer.csv')"
   ]
  },
  {
   "cell_type": "code",
   "execution_count": 3,
   "id": "33f412f0",
   "metadata": {},
   "outputs": [
    {
     "name": "stdout",
     "output_type": "stream",
     "text": [
      "['transaction_id', 'timestamp', 'sender_account', 'receiver_account', 'amount', 'transaction_type', 'merchant_category', 'location', 'device_used', 'is_fraud', 'fraud_type', 'time_since_last_transaction', 'spending_deviation_score', 'velocity_score', 'geo_anomaly_score', 'payment_channel', 'ip_address', 'device_hash', 'transaction_hour', 'transaction_day_of_week', 'transaction_month', 'is_weekend', 'hour_sin', 'hour_cos', 'is_first_sender_receiver_tx', 'time_of_day', 'sender_1h_transaction_count', 'sender_24h_transaction_count', 'sender_7d_transaction_count', 'sender_24h_avg_amount', 'account_24h_sum_amount', 'account_24h_max_amount', 'account_24h_std_amount', 'receiver_24h_transaction_count', 'receiver_24h_unique_senders', 'receiver_24h_sum_amount', 'receiver_24h_max_amount', 'device_account_count_24h', 'account_device_count_24h', 'sender_24h_unique_receivers', 'ip_24h_transaction_count', 'subnet_24h_transaction_count', 'subnet_24h_unique_accounts', 'receiver_unique_sender_devices', 'device_unique_accounts', 'ip_unique_accounts', 'avg_time_between_transactions', 'merchant_historical_avg_amount', 'account_historical_avg_amount', 'account_historical_avg_hour', 'account_historical_median_amount', 'receiver_historical_avg_amount', 'amount_vs_receiver_avg', 'location_historical_fraud_rate', 'amount_first_digit', 'is_high_first_digit', 'account_high_first_digit_ratio', 'receiver_device_total_users', 'is_amount_round_100', 'is_amount_round_1000', 'amount_cents', 'has_cents', 'is_micro_transaction', 'time_between_tx_std_24h', 'time_since_last_tx_by_merchant', 'is_night_transaction', 'fan_out_ratio_24h', 'fan_in_ratio_24h', 'time_since_account_creation', 'sender_receiver_tx_count', 'is_first_tx_for_receiver', 'time_since_receiver_creation', 'relationship_duration_hours', 'merchant_historical_std_amount', 'amount_merchant_z_score', 'time_since_last_vs_avg_ratio', 'sender_new_receiver_count_24h', 'velocity_change_1h_vs_24h', 'amount_to_merchant_avg_ratio', 'amount_deviation_from_merchant_avg', 'amount_vs_account_avg', 'amount_vs_account_median_ratio', 'hour_deviation_from_avg', 'type_device_interaction', 'channel_merchant_interaction', 'is_first_transaction_for_account', 'is_first_account_device_pair', 'is_new_location', 'amount_x_spending_deviation', 'amount_x_velocity', 'geo_x_spending_deviation', 'sender_1h_sum_amount', 'amount_ratio_1h_vs_24h', 'amount_deviation_from_account_avg', 'account_merchant_avg_spend', 'amount_vs_account_merchant_avg', 'sender_receiver_device_same', 'is_shared_device_receiver', 'type_device_interaction_freq_encoded', 'channel_merchant_interaction_freq_encoded', 'location_freq_encoded', 'merchant_category_freq_encoded', 'ip_subnet_freq_encoded']\n"
     ]
    }
   ],
   "source": [
    "print(df.columns.to_list())"
   ]
  }
 ],
 "metadata": {
  "kernelspec": {
   "display_name": "anomaly-fraud-detection-3.12",
   "language": "python",
   "name": "python3"
  },
  "language_info": {
   "codemirror_mode": {
    "name": "ipython",
    "version": 3
   },
   "file_extension": ".py",
   "mimetype": "text/x-python",
   "name": "python",
   "nbconvert_exporter": "python",
   "pygments_lexer": "ipython3",
   "version": "3.12.10"
  }
 },
 "nbformat": 4,
 "nbformat_minor": 5
}
